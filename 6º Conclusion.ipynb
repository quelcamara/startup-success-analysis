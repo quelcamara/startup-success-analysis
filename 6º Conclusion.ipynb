{
 "cells": [
  {
   "cell_type": "markdown",
   "id": "solved-colon",
   "metadata": {},
   "source": [
    "## <font color='#607c8e'>Startup's Success Analysis</font>\n",
    "<font color='#cb416b'>Data Science Foundation Program BootCamp<br/></font>\n",
    "Raquel Câmara Porto"
   ]
  },
  {
   "cell_type": "markdown",
   "id": "instrumental-candle",
   "metadata": {},
   "source": [
    "<b>Objective: Predicting the profit of a new Startup based on certain features and deciding whether one should invest in a particular startup or not.</b>"
   ]
  },
  {
   "cell_type": "markdown",
   "id": "russian-polymer",
   "metadata": {},
   "source": [
    "### <font color='#3c4142'>Conclusion</font>"
   ]
  },
  {
   "cell_type": "markdown",
   "id": "relevant-cleaning",
   "metadata": {},
   "source": [
    "Comparing all the models:"
   ]
  },
  {
   "cell_type": "markdown",
   "id": "embedded-chorus",
   "metadata": {},
   "source": [
    "                Linear Regression     Decision Tree     Random Forest\n",
    "    R² score          96.5%               98.1%             98.4%\n",
    "    RMSE            8916.02             6560.37           8542.21\n",
    "    MAE/Mean           6.9%                5.0%              5.6%"
   ]
  }
 ],
 "metadata": {
  "kernelspec": {
   "display_name": "Python 3",
   "language": "python",
   "name": "python3"
  },
  "language_info": {
   "codemirror_mode": {
    "name": "ipython",
    "version": 3
   },
   "file_extension": ".py",
   "mimetype": "text/x-python",
   "name": "python",
   "nbconvert_exporter": "python",
   "pygments_lexer": "ipython3",
   "version": "3.7.6"
  }
 },
 "nbformat": 4,
 "nbformat_minor": 5
}
