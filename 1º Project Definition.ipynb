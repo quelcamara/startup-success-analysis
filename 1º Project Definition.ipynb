{
 "cells": [
  {
   "cell_type": "markdown",
   "id": "automotive-tribute",
   "metadata": {},
   "source": [
    "## <font color='#607c8e'>Startup's Success Analysis</font>\n",
    "<font color='#cb416b'>Data Science Foundation Program BootCamp<br/></font>\n",
    "Raquel Câmara Porto"
   ]
  },
  {
   "cell_type": "markdown",
   "id": "swiss-engine",
   "metadata": {},
   "source": [
    "<b>Study object:</b> Dataset containing details about 50 startup’s.<br/>\n",
    "<b>Objective:</b> Predicting the profit of a new Startup based on certain features and deciding whether one should invest in a particular startup or not.\n",
    "\n",
    "<b>Additional Information:</b>\n",
    "* R&D Stend - Total amount of money spent on Research and Development\n",
    "* Administration - Total amount of money spent on Administration\n",
    "* Marketing Spend - Total amount of money spent on Marketing\n",
    "* State - The state where the startup operates\n",
    "* Profit - Profit earned by startup"
   ]
  },
  {
   "cell_type": "markdown",
   "id": "indirect-wesley",
   "metadata": {},
   "source": [
    "<b>Method:</b>\n",
    "1. identification of a startup’s success, considering the region where the business operates, by analyzing the trends and features of 50 top startups based on the total amount of money spent on research and development, administration, and marketing.\n",
    "2. Creation of a  statistical model to predict the potential demand and success of the start-up.\n",
    "3. Development of a generalized model to identify the right algorithm. The prediction model will identify the efficient model by comparing one business model’s scores to another."
   ]
  }
 ],
 "metadata": {
  "kernelspec": {
   "display_name": "Python 3",
   "language": "python",
   "name": "python3"
  },
  "language_info": {
   "codemirror_mode": {
    "name": "ipython",
    "version": 3
   },
   "file_extension": ".py",
   "mimetype": "text/x-python",
   "name": "python",
   "nbconvert_exporter": "python",
   "pygments_lexer": "ipython3",
   "version": "3.7.6"
  }
 },
 "nbformat": 4,
 "nbformat_minor": 5
}
